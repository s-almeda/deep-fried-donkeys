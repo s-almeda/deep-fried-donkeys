{
 "cells": [
  {
   "cell_type": "markdown",
   "id": "2b2ccea1-f367-4ad4-b205-91e1c99c5c47",
   "metadata": {},
   "source": [
    "<h1>all the code for Shm's Silly Shrek Demo</h1>"
   ]
  },
  {
   "cell_type": "markdown",
   "id": "16e45673-929b-42ff-8975-608c6ff6e102",
   "metadata": {},
   "source": [
    "***stuff i did before class (to transcribe shrek.)***\n",
    "\n",
    "you don't need to run this part, as shrek_timestamped.txt is already included ;)"
   ]
  },
  {
   "cell_type": "markdown",
   "id": "41b97ace-459c-4e78-b8c8-fafcd111a662",
   "metadata": {},
   "source": [
    "1. Load up Shrek mp4..."
   ]
  },
  {
   "cell_type": "code",
   "execution_count": null,
   "id": "dc2484f6-55ce-4c1a-b3ba-d62e8df86b43",
   "metadata": {
    "scrolled": true
   },
   "outputs": [],
   "source": [
    "from ipywidgets import Output, GridspecLayout\n",
    "from IPython.display import display\n",
    "from IPython.display import Video\n",
    "Video(\"shrek.mp4\") #display the video! "
   ]
  },
  {
   "cell_type": "markdown",
   "id": "e8cb4878-17f3-4f88-b7f0-3a71477679fe",
   "metadata": {},
   "source": [
    "...and get its audio file as \"audio.wav\""
   ]
  },
  {
   "cell_type": "code",
   "execution_count": null,
   "id": "c21a1b01-7bfe-434b-8123-7731bcd19944",
   "metadata": {},
   "outputs": [],
   "source": [
    "video = AudioSegment.from_file(\"shrek.mp4\", format=\"mp4\")\n",
    "\n",
    "audio = video.set_channels(1).set_frame_rate(16000).set_sample_width(2)\n",
    "audio.export(\"audio.wav\", format=\"wav\")"
   ]
  },
  {
   "cell_type": "markdown",
   "id": "a68315a0-297a-45df-a743-27485db8125f",
   "metadata": {},
   "source": [
    "2. Open up the audio file and use OpenAI's Whisper Model to recognize the speech and transcribe it as text. Then, print the result."
   ]
  },
  {
   "cell_type": "code",
   "execution_count": null,
   "id": "396df848-7170-40a4-b3ae-bae1a9e69154",
   "metadata": {
    "scrolled": true
   },
   "outputs": [],
   "source": [
    "# This code block may take a very long time to run! \n",
    "import whisper\n",
    "from pydub import AudioSegment\n",
    "from pathlib import Path\n",
    "model = whisper.load_model(\"medium\")\n",
    "result = model.transcribe(\"audio.wav\", language=\"English\")\n",
    "print(result)"
   ]
  },
  {
   "cell_type": "code",
   "execution_count": null,
   "id": "c6bfee32-839c-446b-8e56-8afefc6ab480",
   "metadata": {},
   "outputs": [],
   "source": [
    "# Save our transcription as a text file\n",
    "output_file = \"shrek_timestamped.txt\"\n",
    "with open(output_file, \"w\") as file:\n",
    " # Writes the transcribed text into a file, with timestamps\n",
    "    for segment in result[\"segments\"]:\n",
    "        start = segment[\"start\"]\n",
    "        end = segment[\"end\"]\n",
    "        text = segment[\"text\"]\n",
    "        file.write(f\"[{start:.2f} - {end:.2f}] {text}\\n\")\n",
    "print(f\"Transcription saved to {output_file}\")"
   ]
  },
  {
   "cell_type": "code",
   "execution_count": null,
   "id": "4c28b38b-0a76-49cc-8308-556223b2bfbc",
   "metadata": {},
   "outputs": [],
   "source": [
    "# the timestamps are in seconds; we might need them in seconds/hours/minutes.\n",
    "# this is a helper function for that, later.\n",
    "def seconds_to_timecode(s):\n",
    "    seconds = float(s)\n",
    "    hours = int(seconds // 3600)\n",
    "    minutes = int((seconds % 3600) // 60)\n",
    "    seconds = seconds % 60\n",
    "    return f\"{hours:02}:{minutes:02}:{seconds:06.3f}\""
   ]
  },
  {
   "cell_type": "markdown",
   "id": "a4670219-dd01-45f3-a85a-1f73e888924e",
   "metadata": {},
   "source": [
    "<h4>~ End of stuff I did before class ~</h4>\n"
   ]
  },
  {
   "cell_type": "markdown",
   "id": "f970cbe2-5bb9-4fde-83ad-a2f595c3d896",
   "metadata": {},
   "source": [
    "--------\n",
    "<h1>Beginning of in-class demo!</h1>"
   ]
  },
  {
   "cell_type": "markdown",
   "id": "3fa3a9d5-f077-49e3-8858-c76e81701625",
   "metadata": {},
   "source": [
    "\n",
    "*Let's open up our timestamped transcription of shrek!*\n"
   ]
  },
  {
   "cell_type": "code",
   "execution_count": null,
   "id": "68cd7ebc-7152-41f0-935b-0557dd27cc47",
   "metadata": {},
   "outputs": [],
   "source": [
    "shrek = open('shrek_timestamped.txt').read()"
   ]
  },
  {
   "cell_type": "code",
   "execution_count": null,
   "id": "e4e1c14d-424c-49af-b838-2d85ae7689d1",
   "metadata": {
    "scrolled": true
   },
   "outputs": [],
   "source": [
    "print(shrek)"
   ]
  },
  {
   "cell_type": "code",
   "execution_count": null,
   "id": "a7f63b90-8416-4af9-bf0e-8d28c3599b38",
   "metadata": {},
   "outputs": [],
   "source": [
    "print(shrek.upper())"
   ]
  },
  {
   "cell_type": "code",
   "execution_count": null,
   "id": "0e6fe3b8-fa41-428e-8338-947c8e80e5ee",
   "metadata": {},
   "outputs": [],
   "source": [
    "shrek = shrek.lower()\n",
    "print(shrek)"
   ]
  },
  {
   "cell_type": "markdown",
   "id": "6beb587b-6296-47ce-b346-7c206a4009fc",
   "metadata": {},
   "source": [
    "<h1>donkey time!</h1>\n",
    "Let's find all the donkeys!\n"
   ]
  },
  {
   "cell_type": "code",
   "execution_count": null,
   "id": "4916a99b-76d3-4037-a57c-ee6f71373211",
   "metadata": {},
   "outputs": [],
   "source": [
    "print(shrek.count('donkey'))"
   ]
  },
  {
   "cell_type": "code",
   "execution_count": null,
   "id": "9c264555-1d85-4b79-8249-0b7b4f903f19",
   "metadata": {},
   "outputs": [],
   "source": [
    "donkeys = []\n",
    "for index, line in enumerate(shrek.split('\\n')):\n",
    "    if 'donkey' in line.lower():\n",
    "        segment, text = line.strip().split('] ', 1)\n",
    "        start_time, end_time = segment[1:].split('-')\n",
    "        entry = {'start': start_time, 'end': end_time, 'text': text}\n",
    "        donkeys.append(entry)"
   ]
  },
  {
   "cell_type": "code",
   "execution_count": null,
   "id": "b7d7130f-b830-47e3-aaaa-4668951ddffc",
   "metadata": {},
   "outputs": [],
   "source": [
    "for donkey in donkeys:\n",
    "    print(donkey)"
   ]
  },
  {
   "cell_type": "code",
   "execution_count": null,
   "id": "0da89bdc-647a-4649-b910-56a3932dd780",
   "metadata": {},
   "outputs": [],
   "source": [
    "import ffmpeg\n",
    "\n",
    "for i, donkey in enumerate(donkeys):\n",
    "    start_time, end_time = donkey['start'], donkey['end']\n",
    "    ffmpeg.input('shrek.mp4', ss=seconds_to_timecode(start_time), to=seconds_to_timecode(end_time)).output(f\"clip_{i + 1}.mp4\", codec='copy').run(overwrite_output=True, capture_stdout=True, capture_stderr=True)\n"
   ]
  },
  {
   "cell_type": "code",
   "execution_count": null,
   "id": "6b9e3f40-71e3-48a7-b370-c368a728e54e",
   "metadata": {},
   "outputs": [],
   "source": [
    "# Display all the video clips!\n",
    "grid = GridspecLayout(1, len(donkeys))\n",
    "for i, donkey in enumerate(donkeys[::2]):\n",
    "    filepath = f\"clip_{i + 1}.mp4\"\n",
    "    out = Output()\n",
    "    with out:\n",
    "        display.display(display.Video(filepath, embed=True))\n",
    "    grid[0, i] = out\n",
    "grid"
   ]
  },
  {
   "cell_type": "markdown",
   "id": "88b551c1-02c4-4a57-9ffb-66a7ee9536eb",
   "metadata": {},
   "source": [
    "**now let's deep fry all the videos**"
   ]
  },
  {
   "cell_type": "code",
   "execution_count": null,
   "id": "0713093b-13af-4e44-9e8f-676db82416e8",
   "metadata": {},
   "outputs": [],
   "source": [
    "for i, donkey in enumerate(donkeys):\n",
    "    num_clips = len(donkeys)\n",
    "    start_time, end_time = donkey['start'], donkey['end']\n",
    "    speed_factor =  (i/(num_clips)) * 15 + 1 \n",
    "    \n",
    "    \n",
    "    # Visual deep frying\n",
    "    contrast = ((i / (num_clips - 1)) * 10) + 1\n",
    "    brightness = (i / num_clips * 0.1) + 0.1\n",
    "    saturation = (i / num_clips * 2.0) + 1\n",
    "    gamma_r = ((i / (num_clips - 1)) * 10) + 1 \n",
    "    gamma_g = ((i / (num_clips - 1)) * 7) + 1\n",
    "    gamma_b = ((i / (num_clips - 1)) * 5) + 1\n",
    "    \n",
    "    output_file = f\"clip_{i + 1}_fried.mp4\"\n",
    "    input_stream = ffmpeg.input('shrek.mp4', ss=seconds_to_timecode(start_time), to=seconds_to_timecode(end_time))\n",
    "    video = (\n",
    "        input_stream.video\n",
    "        .filter('setpts', f'PTS/{speed_factor}')\n",
    "        .filter('eq', contrast=contrast, brightness=brightness, saturation=saturation, gamma_r=gamma_r, gamma_g=gamma_g, gamma_b=gamma_b, gamma_weight=0.2)\n",
    "    )\n",
    "    \n",
    "    audio = input_stream.audio.filter('atempo', speed_factor)\n",
    "    \n",
    "    (\n",
    "        ffmpeg\n",
    "        .output(video, audio, output_file)\n",
    "        .run(overwrite_output=True, quiet=True, capture_stdout=True, capture_stderr=True)\n",
    "    )\n"
   ]
  },
  {
   "cell_type": "code",
   "execution_count": null,
   "id": "e8f120c3-718b-4121-855c-5c0406536d19",
   "metadata": {},
   "outputs": [],
   "source": [
    "compiled = []\n",
    "\n",
    "for i in range(1, len(donkeys) + 1):\n",
    "    clip = ffmpeg.input(f\"clip_{i}_fried.mp4\")\n",
    "    video_stream = clip.video\n",
    "    audio_stream = clip.audio\n",
    "    \n",
    "    compiled.append(video_stream)\n",
    "    compiled.append(audio_stream)\n",
    "\n",
    "# Concatenate video and audio streams in pairs\n",
    "merged = (\n",
    "    ffmpeg\n",
    "    .concat(*compiled, v=1, a=1)\n",
    "    .output(\"fried_donkeys.mp4\")\n",
    "    .run(overwrite_output=True, capture_stdout=True, capture_stderr=True)\n",
    ")\n"
   ]
  },
  {
   "cell_type": "code",
   "execution_count": null,
   "id": "17f0abc7-7b7a-4f61-a765-f9c2c8f20e89",
   "metadata": {
    "scrolled": true
   },
   "outputs": [],
   "source": [
    "Video(\"fried_donkeys.mp4\", embed=True)"
   ]
  },
  {
   "cell_type": "markdown",
   "id": "a6b6bbcc-e616-4eb1-87ba-d93852b60dea",
   "metadata": {},
   "source": [
    "<h3>A lil extra demo that is more related to shm's research: Creativity Tools</h3>"
   ]
  },
  {
   "cell_type": "markdown",
   "id": "8ae374c4-8405-45df-bdde-d6e97fa249a1",
   "metadata": {},
   "source": [
    "1. let's make a simple drawing canvas... (a white rectangle that creates black dots when you click)"
   ]
  },
  {
   "cell_type": "code",
   "execution_count": null,
   "id": "8faa611f-9853-4d83-a185-33dc885e36c1",
   "metadata": {
    "scrolled": true
   },
   "outputs": [],
   "source": [
    "from ipycanvas import Canvas\n",
    "from ipywidgets import VBox\n",
    "from IPython.display import display\n",
    "\n",
    "canvas = Canvas(width=800, height=200)\n",
    "canvas.fill_style = 'white'\n",
    "canvas.fill_rect(0, 0, canvas.width, canvas.height)\n",
    "canvas.stroke_style = 'black'\n",
    "canvas.line_width = 3\n",
    "canvas.fill_style = 'black'\n",
    "canvas.stroke_rect(0, 0, canvas.width, canvas.height)\n",
    "\n",
    "def on_mouse_down(x, y):\n",
    "    canvas.mouse_down = True\n",
    "    canvas.fill_circle(x, y, 12)\n",
    "canvas.on_mouse_down(on_mouse_down)\n",
    "\n",
    "display(VBox([canvas]))\n"
   ]
  },
  {
   "cell_type": "markdown",
   "id": "e2888500-db40-420d-9799-504f2ae3b903",
   "metadata": {},
   "source": [
    "2. let's make it so lots of dots appear continuously as you click *and drag*...."
   ]
  },
  {
   "cell_type": "code",
   "execution_count": null,
   "id": "7169cd43-d57a-4c09-9c08-38a3bbc57f51",
   "metadata": {
    "scrolled": true
   },
   "outputs": [],
   "source": [
    "# Create a canvas\n",
    "canvas = Canvas(width=800, height=200)\n",
    "canvas.fill_style = 'white'\n",
    "canvas.fill_rect(0, 0, canvas.width, canvas.height)\n",
    "canvas.stroke_style = 'black'\n",
    "canvas.line_width = 3\n",
    "canvas.fill_style = 'black'\n",
    "canvas.stroke_rect(0, 0, canvas.width, canvas.height)\n",
    "#initialize canvas variables\n",
    "canvas.mouse_down = False\n",
    "canvas.last_x = None\n",
    "canvas.last_y = None\n",
    "\n",
    "canvas.brush_spacing = 3 # default space between each \"dot\"\n",
    "\n",
    "def lerp(a, b, t):\n",
    "    return a + (b - a) * t\n",
    "\n",
    "def on_mouse_down(x, y):\n",
    "    canvas.mouse_down = True\n",
    "    canvas.last_x, canvas.last_y = x, y\n",
    "    canvas.fill_circle(x, y, 5)\n",
    "\n",
    "def on_mouse_move(x, y):\n",
    "    if canvas.mouse_down:\n",
    "        dist = ((x - canvas.last_x)**2 + (y - canvas.last_y)**2) ** 0.5\n",
    "        steps = int(dist / 3) # <-- Distance between the circles!!\n",
    "        for i in range(steps):\n",
    "            inter_x = lerp(canvas.last_x, x, i / steps)\n",
    "            inter_y = lerp(canvas.last_y, y, i / steps)\n",
    "            canvas.fill_circle(inter_x, inter_y, 5)\n",
    "        canvas.fill_circle(x, y, 5)\n",
    "        canvas.last_x, canvas.last_y = x, y\n",
    "\n",
    "def on_mouse_up(x, y):\n",
    "    canvas.mouse_down = False\n",
    "    canvas.last_x, canvas.last_y = None, None\n",
    "\n",
    "canvas.on_mouse_down(on_mouse_down)\n",
    "canvas.on_mouse_move(on_mouse_move)\n",
    "canvas.on_mouse_up(on_mouse_up)\n",
    "\n",
    "display(VBox([canvas]))\n"
   ]
  },
  {
   "cell_type": "markdown",
   "id": "ca0a267d-f52e-4f2d-bedc-8b4ea39f8c1f",
   "metadata": {},
   "source": [
    "3. let's add colors and a design a lil GUI for selecting them!"
   ]
  },
  {
   "cell_type": "code",
   "execution_count": null,
   "id": "f65f7590-5ebd-4bd4-9bdb-5cd8554bfe48",
   "metadata": {
    "scrolled": true
   },
   "outputs": [],
   "source": [
    "from ipycanvas import Canvas\n",
    "from ipywidgets import VBox\n",
    "\n",
    "# Create a canvas\n",
    "canvas = Canvas(width=800, height=200)\n",
    "canvas.fill_style = 'white'\n",
    "canvas.fill_rect(0, 0, canvas.width, canvas.height)\n",
    "canvas.stroke_style = 'black'\n",
    "canvas.line_width = 3\n",
    "canvas.fill_style = 'black'\n",
    "\n",
    "# Initialize canvas variables\n",
    "canvas.mouse_down = False\n",
    "canvas.last_x = None\n",
    "canvas.last_y = None\n",
    "canvas.brush_color = 'black'\n",
    "canvas.brush_size = 4  # Default brush size\n",
    "\n",
    "# Define color boxes (x, y, width, height, color)\n",
    "canvas.color_boxes = [\n",
    "    (10, 10, 30, 30, '#e76f51'),\n",
    "    (50, 10, 30, 30, '#f4a261'),\n",
    "    (90, 10, 30, 30, '#e9c46a'),\n",
    "    (130, 10, 30, 30, '#2a9d8f'),\n",
    "    (170, 10, 30, 30, 'black')\n",
    "]\n",
    "\n",
    "# Define brush size circles (x, y, radius)\n",
    "canvas.brush_size_circles = [\n",
    "    (220, 25, 4),  # Small circle\n",
    "    (260, 25, 12)   # Big circle\n",
    "]\n",
    "\n",
    "def reset_ui():\n",
    "    canvas.fill_style = \"white\"\n",
    "    canvas.fill_rect(0, 0, 300, 60)\n",
    "    canvas.stroke_style = \"black\"\n",
    "    canvas.stroke_rect(0, 0, 300, 60)\n",
    "    canvas.stroke_rect(0, 0, canvas.width, canvas.height)\n",
    "    for x, y, width, height, color in canvas.color_boxes:\n",
    "        canvas.fill_style = color\n",
    "        canvas.fill_rect(x, y, width, height)\n",
    "\n",
    "    # Reset brush color to the current selection\n",
    "    canvas.fill_style = canvas.brush_color  \n",
    "    \n",
    "    # Draw brush size circles\n",
    "    for x, y, radius in canvas.brush_size_circles:\n",
    "        canvas.fill_circle(x, y, radius)\n",
    "\n",
    "\n",
    "def lerp(a, b, t):\n",
    "    return a + (b - a) * t\n",
    "\n",
    "def on_mouse_down(x, y):\n",
    "    # Check if the click is within any of the color boxes\n",
    "    for box_x, box_y, box_width, box_height, color in canvas.color_boxes:\n",
    "        if box_x <= x <= box_x + box_width and box_y <= y <= box_y + box_height:\n",
    "            \n",
    "            \n",
    "            canvas.fill_style = color  # Change brush color\n",
    "            canvas.brush_color = color  # Update brush color\n",
    "            reset_ui()\n",
    "            canvas.stroke_rect(box_x - 1, box_y - 1, box_width + 2, box_height + 2) #highlight selected box\n",
    "            return\n",
    "    \n",
    "    # Check if the click is within any of the brush size circles\n",
    "    for circle_x, circle_y, radius in canvas.brush_size_circles:\n",
    "        if (x - circle_x)**2 + (y - circle_y)**2 <= radius**2:\n",
    "            reset_ui()\n",
    "            canvas.stroke_circle(circle_x, circle_y, radius + 2)  # Highlight the selected circle\n",
    "            canvas.brush_size = radius  # Change brush size\n",
    "            return\n",
    "    \n",
    "    # If not clicking a color box or brush size circle, start drawing\n",
    "    canvas.mouse_down = True\n",
    "    canvas.last_x, canvas.last_y = x, y\n",
    "    canvas.fill_circle(x, y, canvas.brush_size)\n",
    "\n",
    "def on_mouse_move(x, y):\n",
    "    if canvas.mouse_down:\n",
    "        dist = ((x - canvas.last_x)**2 + (y - canvas.last_y)**2) ** 0.5\n",
    "        steps = int(dist / 2)\n",
    "        for i in range(steps):\n",
    "            inter_x = lerp(canvas.last_x, x, i / steps)\n",
    "            inter_y = lerp(canvas.last_y, y, i / steps)\n",
    "            canvas.fill_circle(inter_x, inter_y, canvas.brush_size)\n",
    "        canvas.fill_circle(x, y, canvas.brush_size)\n",
    "        canvas.last_x, canvas.last_y = x, y\n",
    "\n",
    "def on_mouse_up(x, y):\n",
    "    canvas.mouse_down = False\n",
    "    canvas.last_x, canvas.last_y = None, None\n",
    "\n",
    "# Bind the mouse events to the canvas\n",
    "canvas.on_mouse_down(on_mouse_down)\n",
    "canvas.on_mouse_move(on_mouse_move)\n",
    "canvas.on_mouse_up(on_mouse_up)\n",
    "\n",
    "# Display the canvas\n",
    "display(VBox([canvas]))\n",
    "reset_ui()\n"
   ]
  },
  {
   "cell_type": "code",
   "execution_count": null,
   "id": "c6908bda-e027-4193-bf71-3eccabc28149",
   "metadata": {},
   "outputs": [],
   "source": []
  }
 ],
 "metadata": {
  "kernelspec": {
   "display_name": "Python 3 (ipykernel)",
   "language": "python",
   "name": "python3"
  },
  "language_info": {
   "codemirror_mode": {
    "name": "ipython",
    "version": 3
   },
   "file_extension": ".py",
   "mimetype": "text/x-python",
   "name": "python",
   "nbconvert_exporter": "python",
   "pygments_lexer": "ipython3",
   "version": "3.12.5"
  }
 },
 "nbformat": 4,
 "nbformat_minor": 5
}
